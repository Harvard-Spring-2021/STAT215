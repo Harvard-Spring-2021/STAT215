{
 "cells": [
  {
   "cell_type": "code",
   "execution_count": 1,
   "metadata": {},
   "outputs": [
    {
     "name": "stdout",
     "output_type": "stream",
     "text": [
      "Processing /Users/nabibahmed/Library/Caches/pip/wheels/6f/f8/5e/da1f0c2e1598259708ba7f3fe5115d1c7bd488d55f7ec2ab26/higlass_python-0.4.4-py2.py3-none-any.whl\n",
      "Collecting sh\n",
      "  Using cached sh-1.14.1-py2.py3-none-any.whl (40 kB)\n",
      "Requirement already satisfied: matplotlib in /Users/nabibahmed/opt/anaconda3/lib/python3.7/site-packages (from higlass-python) (3.1.3)\n",
      "Collecting simple-httpfs>=0.4.2\n",
      "  Using cached simple_httpfs-0.4.12-py2.py3-none-any.whl (7.6 kB)\n",
      "Requirement already satisfied: flask in /Users/nabibahmed/opt/anaconda3/lib/python3.7/site-packages (from higlass-python) (1.1.1)\n",
      "Collecting multiprocess\n",
      "  Using cached multiprocess-0.70.11.1-py37-none-any.whl (108 kB)\n",
      "Collecting flask-cors\n",
      "  Using cached Flask_Cors-3.0.10-py2.py3-none-any.whl (14 kB)\n",
      "Requirement already satisfied: ipywidgets>=7.5 in /Users/nabibahmed/opt/anaconda3/lib/python3.7/site-packages (from higlass-python) (7.5.1)\n",
      "Requirement already satisfied: cytoolz<0.11 in /Users/nabibahmed/opt/anaconda3/lib/python3.7/site-packages (from higlass-python) (0.10.1)\n",
      "Collecting slugid>=2.0.0\n",
      "  Using cached slugid-2.0.0-py2.py3-none-any.whl (8.2 kB)\n",
      "Requirement already satisfied: requests in /Users/nabibahmed/opt/anaconda3/lib/python3.7/site-packages (from higlass-python) (2.22.0)\n",
      "Processing /Users/nabibahmed/Library/Caches/pip/wheels/4c/a5/91/7772af9e21c461f07bb40f26d928d7d231d224977dd8353bab/fusepy-3.0.1-cp37-none-any.whl\n",
      "Processing /Users/nabibahmed/Library/Caches/pip/wheels/4b/88/51/6177efbeb2279d96aedfb0b8afabd59fc2e3cda8b810fc0448/clodius-0.15.4-py2.py3-none-any.whl\n",
      "Requirement already satisfied: python-dateutil>=2.1 in /Users/nabibahmed/opt/anaconda3/lib/python3.7/site-packages (from matplotlib->higlass-python) (2.8.1)\n",
      "Requirement already satisfied: numpy>=1.11 in /Users/nabibahmed/opt/anaconda3/lib/python3.7/site-packages (from matplotlib->higlass-python) (1.18.1)\n",
      "Requirement already satisfied: pyparsing!=2.0.4,!=2.1.2,!=2.1.6,>=2.0.1 in /Users/nabibahmed/opt/anaconda3/lib/python3.7/site-packages (from matplotlib->higlass-python) (2.4.6)\n",
      "Requirement already satisfied: cycler>=0.10 in /Users/nabibahmed/opt/anaconda3/lib/python3.7/site-packages (from matplotlib->higlass-python) (0.10.0)\n",
      "Requirement already satisfied: kiwisolver>=1.0.1 in /Users/nabibahmed/opt/anaconda3/lib/python3.7/site-packages (from matplotlib->higlass-python) (1.1.0)\n",
      "Collecting diskcache\n",
      "  Using cached diskcache-5.2.1-py3-none-any.whl (44 kB)\n",
      "Collecting tenacity\n",
      "  Using cached tenacity-7.0.0-py2.py3-none-any.whl (23 kB)\n",
      "Collecting boto3\n",
      "  Using cached boto3-1.17.34-py2.py3-none-any.whl (131 kB)\n",
      "Requirement already satisfied: Jinja2>=2.10.1 in /Users/nabibahmed/opt/anaconda3/lib/python3.7/site-packages (from flask->higlass-python) (2.11.1)\n",
      "Requirement already satisfied: Werkzeug>=0.15 in /Users/nabibahmed/opt/anaconda3/lib/python3.7/site-packages (from flask->higlass-python) (1.0.0)\n",
      "Requirement already satisfied: itsdangerous>=0.24 in /Users/nabibahmed/opt/anaconda3/lib/python3.7/site-packages (from flask->higlass-python) (1.1.0)\n",
      "Requirement already satisfied: click>=5.1 in /Users/nabibahmed/opt/anaconda3/lib/python3.7/site-packages (from flask->higlass-python) (7.0)\n",
      "Collecting dill>=0.3.3\n",
      "  Using cached dill-0.3.3-py2.py3-none-any.whl (81 kB)\n",
      "Requirement already satisfied: Six in /Users/nabibahmed/opt/anaconda3/lib/python3.7/site-packages (from flask-cors->higlass-python) (1.14.0)\n",
      "Requirement already satisfied: ipython>=4.0.0; python_version >= \"3.3\" in /Users/nabibahmed/opt/anaconda3/lib/python3.7/site-packages (from ipywidgets>=7.5->higlass-python) (7.12.0)\n",
      "Requirement already satisfied: traitlets>=4.3.1 in /Users/nabibahmed/opt/anaconda3/lib/python3.7/site-packages (from ipywidgets>=7.5->higlass-python) (4.3.3)\n",
      "Requirement already satisfied: widgetsnbextension~=3.5.0 in /Users/nabibahmed/opt/anaconda3/lib/python3.7/site-packages (from ipywidgets>=7.5->higlass-python) (3.5.1)\n",
      "Requirement already satisfied: nbformat>=4.2.0 in /Users/nabibahmed/opt/anaconda3/lib/python3.7/site-packages (from ipywidgets>=7.5->higlass-python) (5.0.4)\n",
      "Requirement already satisfied: ipykernel>=4.5.1 in /Users/nabibahmed/opt/anaconda3/lib/python3.7/site-packages (from ipywidgets>=7.5->higlass-python) (5.1.4)\n",
      "Requirement already satisfied: toolz>=0.8.0 in /Users/nabibahmed/opt/anaconda3/lib/python3.7/site-packages (from cytoolz<0.11->higlass-python) (0.10.0)\n",
      "Requirement already satisfied: certifi>=2017.4.17 in /Users/nabibahmed/opt/anaconda3/lib/python3.7/site-packages (from requests->higlass-python) (2019.11.28)\n",
      "Requirement already satisfied: urllib3!=1.25.0,!=1.25.1,<1.26,>=1.21.1 in /Users/nabibahmed/opt/anaconda3/lib/python3.7/site-packages (from requests->higlass-python) (1.25.8)\n",
      "Requirement already satisfied: chardet<3.1.0,>=3.0.2 in /Users/nabibahmed/opt/anaconda3/lib/python3.7/site-packages (from requests->higlass-python) (3.0.4)\n",
      "Requirement already satisfied: idna<2.9,>=2.5 in /Users/nabibahmed/opt/anaconda3/lib/python3.7/site-packages (from requests->higlass-python) (2.8)\n",
      "Collecting pybbi>=0.2.0\n",
      "  Using cached pybbi-0.3.0-cp37-cp37m-macosx_10_6_intel.whl (1.4 MB)\n",
      "Collecting h5py>=3.0.0\n",
      "  Using cached h5py-3.2.1-cp37-cp37m-macosx_10_9_x86_64.whl (2.9 MB)\n",
      "Processing /Users/nabibahmed/Library/Caches/pip/wheels/4b/09/26/4ab45dc2fa2df903d964d653dfe427f443c9115400e108648b/negspy-0.2.24-cp37-none-any.whl\n",
      "Processing /Users/nabibahmed/Library/Caches/pip/wheels/40/b6/31/b17b46a486dbd8eeacb7d7649d687e45ec5f561d8d9b29c88f/pysam-0.16.0.1-cp37-cp37m-macosx_10_14_x86_64.whl\n",
      "Requirement already satisfied: pandas in /Users/nabibahmed/opt/anaconda3/lib/python3.7/site-packages (from clodius->higlass-python) (1.0.1)\n",
      "Requirement already satisfied: dask in /Users/nabibahmed/opt/anaconda3/lib/python3.7/site-packages (from clodius->higlass-python) (2.11.0)\n",
      "Requirement already satisfied: nose in /Users/nabibahmed/opt/anaconda3/lib/python3.7/site-packages (from clodius->higlass-python) (1.3.7)\n",
      "Collecting cooler>=0.8.5\n",
      "  Using cached cooler-0.8.10-py2.py3-none-any.whl (100 kB)\n",
      "Requirement already satisfied: sortedcontainers in /Users/nabibahmed/opt/anaconda3/lib/python3.7/site-packages (from clodius->higlass-python) (2.1.0)\n",
      "Requirement already satisfied: setuptools in /Users/nabibahmed/opt/anaconda3/lib/python3.7/site-packages (from kiwisolver>=1.0.1->matplotlib->higlass-python) (46.0.0.post20200309)\n",
      "Collecting botocore<1.21.0,>=1.20.34\n",
      "  Using cached botocore-1.20.34-py2.py3-none-any.whl (7.3 MB)\n",
      "Collecting jmespath<1.0.0,>=0.7.1\n",
      "  Using cached jmespath-0.10.0-py2.py3-none-any.whl (24 kB)\n",
      "Collecting s3transfer<0.4.0,>=0.3.0\n",
      "  Using cached s3transfer-0.3.6-py2.py3-none-any.whl (73 kB)\n",
      "Requirement already satisfied: MarkupSafe>=0.23 in /Users/nabibahmed/opt/anaconda3/lib/python3.7/site-packages (from Jinja2>=2.10.1->flask->higlass-python) (1.1.1)\n",
      "Requirement already satisfied: backcall in /Users/nabibahmed/opt/anaconda3/lib/python3.7/site-packages (from ipython>=4.0.0; python_version >= \"3.3\"->ipywidgets>=7.5->higlass-python) (0.1.0)\n",
      "Requirement already satisfied: decorator in /Users/nabibahmed/opt/anaconda3/lib/python3.7/site-packages (from ipython>=4.0.0; python_version >= \"3.3\"->ipywidgets>=7.5->higlass-python) (4.4.1)\n",
      "Requirement already satisfied: pexpect; sys_platform != \"win32\" in /Users/nabibahmed/opt/anaconda3/lib/python3.7/site-packages (from ipython>=4.0.0; python_version >= \"3.3\"->ipywidgets>=7.5->higlass-python) (4.8.0)\n",
      "Requirement already satisfied: pickleshare in /Users/nabibahmed/opt/anaconda3/lib/python3.7/site-packages (from ipython>=4.0.0; python_version >= \"3.3\"->ipywidgets>=7.5->higlass-python) (0.7.5)\n",
      "Requirement already satisfied: pygments in /Users/nabibahmed/opt/anaconda3/lib/python3.7/site-packages (from ipython>=4.0.0; python_version >= \"3.3\"->ipywidgets>=7.5->higlass-python) (2.5.2)\n",
      "Requirement already satisfied: appnope; sys_platform == \"darwin\" in /Users/nabibahmed/opt/anaconda3/lib/python3.7/site-packages (from ipython>=4.0.0; python_version >= \"3.3\"->ipywidgets>=7.5->higlass-python) (0.1.0)\n",
      "Requirement already satisfied: prompt-toolkit!=3.0.0,!=3.0.1,<3.1.0,>=2.0.0 in /Users/nabibahmed/opt/anaconda3/lib/python3.7/site-packages (from ipython>=4.0.0; python_version >= \"3.3\"->ipywidgets>=7.5->higlass-python) (3.0.3)\n",
      "Requirement already satisfied: jedi>=0.10 in /Users/nabibahmed/opt/anaconda3/lib/python3.7/site-packages (from ipython>=4.0.0; python_version >= \"3.3\"->ipywidgets>=7.5->higlass-python) (0.14.1)\n",
      "Requirement already satisfied: ipython-genutils in /Users/nabibahmed/opt/anaconda3/lib/python3.7/site-packages (from traitlets>=4.3.1->ipywidgets>=7.5->higlass-python) (0.2.0)\n",
      "Requirement already satisfied: notebook>=4.4.1 in /Users/nabibahmed/opt/anaconda3/lib/python3.7/site-packages (from widgetsnbextension~=3.5.0->ipywidgets>=7.5->higlass-python) (6.0.3)\n"
     ]
    },
    {
     "name": "stdout",
     "output_type": "stream",
     "text": [
      "Requirement already satisfied: jupyter-core in /Users/nabibahmed/opt/anaconda3/lib/python3.7/site-packages (from nbformat>=4.2.0->ipywidgets>=7.5->higlass-python) (4.6.1)\n",
      "Requirement already satisfied: jsonschema!=2.5.0,>=2.4 in /Users/nabibahmed/opt/anaconda3/lib/python3.7/site-packages (from nbformat>=4.2.0->ipywidgets>=7.5->higlass-python) (3.2.0)\n",
      "Requirement already satisfied: jupyter-client in /Users/nabibahmed/opt/anaconda3/lib/python3.7/site-packages (from ipykernel>=4.5.1->ipywidgets>=7.5->higlass-python) (5.3.4)\n",
      "Requirement already satisfied: tornado>=4.2 in /Users/nabibahmed/opt/anaconda3/lib/python3.7/site-packages (from ipykernel>=4.5.1->ipywidgets>=7.5->higlass-python) (6.0.3)\n",
      "Collecting cached-property; python_version < \"3.8\"\n",
      "  Using cached cached_property-1.5.2-py2.py3-none-any.whl (7.6 kB)\n",
      "Requirement already satisfied: pytz>=2017.2 in /Users/nabibahmed/opt/anaconda3/lib/python3.7/site-packages (from pandas->clodius->higlass-python) (2019.3)\n",
      "Requirement already satisfied: pyyaml in /Users/nabibahmed/opt/anaconda3/lib/python3.7/site-packages (from cooler>=0.8.5->clodius->higlass-python) (5.3)\n",
      "Requirement already satisfied: scipy>=0.16 in /Users/nabibahmed/opt/anaconda3/lib/python3.7/site-packages (from cooler>=0.8.5->clodius->higlass-python) (1.4.1)\n",
      "Processing /Users/nabibahmed/Library/Caches/pip/wheels/1d/d9/58/9808b306744df0208fccc640d3d9952a5bc7468502d42897d5/asciitree-0.3.3-cp37-none-any.whl\n",
      "Processing /Users/nabibahmed/Library/Caches/pip/wheels/5d/c5/3d/b4d3a2f1c16fc4f5556e8d7891e448ef3701e2aabaa742d9f9/pypairix-0.3.7-cp37-cp37m-macosx_10_14_x86_64.whl\n",
      "Processing /Users/nabibahmed/Library/Caches/pip/wheels/d8/31/5f/8053c426a420cc407492252723f20e9a9c7e717909d7e08a9e/pyfaidx-0.5.9.5-cp37-none-any.whl\n",
      "Collecting simplejson\n",
      "  Using cached simplejson-3.17.2-cp37-cp37m-macosx_10_14_x86_64.whl (73 kB)\n",
      "Requirement already satisfied: ptyprocess>=0.5 in /Users/nabibahmed/opt/anaconda3/lib/python3.7/site-packages (from pexpect; sys_platform != \"win32\"->ipython>=4.0.0; python_version >= \"3.3\"->ipywidgets>=7.5->higlass-python) (0.6.0)\n",
      "Requirement already satisfied: wcwidth in /Users/nabibahmed/opt/anaconda3/lib/python3.7/site-packages (from prompt-toolkit!=3.0.0,!=3.0.1,<3.1.0,>=2.0.0->ipython>=4.0.0; python_version >= \"3.3\"->ipywidgets>=7.5->higlass-python) (0.1.8)\n",
      "Requirement already satisfied: parso>=0.5.0 in /Users/nabibahmed/opt/anaconda3/lib/python3.7/site-packages (from jedi>=0.10->ipython>=4.0.0; python_version >= \"3.3\"->ipywidgets>=7.5->higlass-python) (0.5.2)\n",
      "Requirement already satisfied: nbconvert in /Users/nabibahmed/opt/anaconda3/lib/python3.7/site-packages (from notebook>=4.4.1->widgetsnbextension~=3.5.0->ipywidgets>=7.5->higlass-python) (5.6.1)\n",
      "Requirement already satisfied: terminado>=0.8.1 in /Users/nabibahmed/opt/anaconda3/lib/python3.7/site-packages (from notebook>=4.4.1->widgetsnbextension~=3.5.0->ipywidgets>=7.5->higlass-python) (0.8.3)\n",
      "Requirement already satisfied: pyzmq>=17 in /Users/nabibahmed/opt/anaconda3/lib/python3.7/site-packages (from notebook>=4.4.1->widgetsnbextension~=3.5.0->ipywidgets>=7.5->higlass-python) (18.1.1)\n",
      "Requirement already satisfied: Send2Trash in /Users/nabibahmed/opt/anaconda3/lib/python3.7/site-packages (from notebook>=4.4.1->widgetsnbextension~=3.5.0->ipywidgets>=7.5->higlass-python) (1.5.0)\n",
      "Requirement already satisfied: prometheus-client in /Users/nabibahmed/opt/anaconda3/lib/python3.7/site-packages (from notebook>=4.4.1->widgetsnbextension~=3.5.0->ipywidgets>=7.5->higlass-python) (0.7.1)\n",
      "Requirement already satisfied: attrs>=17.4.0 in /Users/nabibahmed/opt/anaconda3/lib/python3.7/site-packages (from jsonschema!=2.5.0,>=2.4->nbformat>=4.2.0->ipywidgets>=7.5->higlass-python) (19.3.0)\n",
      "Requirement already satisfied: pyrsistent>=0.14.0 in /Users/nabibahmed/opt/anaconda3/lib/python3.7/site-packages (from jsonschema!=2.5.0,>=2.4->nbformat>=4.2.0->ipywidgets>=7.5->higlass-python) (0.15.7)\n",
      "Requirement already satisfied: importlib-metadata; python_version < \"3.8\" in /Users/nabibahmed/opt/anaconda3/lib/python3.7/site-packages (from jsonschema!=2.5.0,>=2.4->nbformat>=4.2.0->ipywidgets>=7.5->higlass-python) (1.5.0)\n",
      "Requirement already satisfied: bleach in /Users/nabibahmed/opt/anaconda3/lib/python3.7/site-packages (from nbconvert->notebook>=4.4.1->widgetsnbextension~=3.5.0->ipywidgets>=7.5->higlass-python) (3.1.0)\n",
      "Requirement already satisfied: testpath in /Users/nabibahmed/opt/anaconda3/lib/python3.7/site-packages (from nbconvert->notebook>=4.4.1->widgetsnbextension~=3.5.0->ipywidgets>=7.5->higlass-python) (0.4.4)\n",
      "Requirement already satisfied: mistune<2,>=0.8.1 in /Users/nabibahmed/opt/anaconda3/lib/python3.7/site-packages (from nbconvert->notebook>=4.4.1->widgetsnbextension~=3.5.0->ipywidgets>=7.5->higlass-python) (0.8.4)\n",
      "Requirement already satisfied: pandocfilters>=1.4.1 in /Users/nabibahmed/opt/anaconda3/lib/python3.7/site-packages (from nbconvert->notebook>=4.4.1->widgetsnbextension~=3.5.0->ipywidgets>=7.5->higlass-python) (1.4.2)\n",
      "Requirement already satisfied: entrypoints>=0.2.2 in /Users/nabibahmed/opt/anaconda3/lib/python3.7/site-packages (from nbconvert->notebook>=4.4.1->widgetsnbextension~=3.5.0->ipywidgets>=7.5->higlass-python) (0.3)\n",
      "Requirement already satisfied: defusedxml in /Users/nabibahmed/opt/anaconda3/lib/python3.7/site-packages (from nbconvert->notebook>=4.4.1->widgetsnbextension~=3.5.0->ipywidgets>=7.5->higlass-python) (0.6.0)\n",
      "Requirement already satisfied: zipp>=0.5 in /Users/nabibahmed/opt/anaconda3/lib/python3.7/site-packages (from importlib-metadata; python_version < \"3.8\"->jsonschema!=2.5.0,>=2.4->nbformat>=4.2.0->ipywidgets>=7.5->higlass-python) (2.2.0)\n",
      "Requirement already satisfied: webencodings in /Users/nabibahmed/opt/anaconda3/lib/python3.7/site-packages (from bleach->nbconvert->notebook>=4.4.1->widgetsnbextension~=3.5.0->ipywidgets>=7.5->higlass-python) (0.5.1)\n",
      "\u001b[31mERROR: tensorflow 2.3.1 has requirement h5py<2.11.0,>=2.10.0, but you'll have h5py 3.2.1 which is incompatible.\u001b[0m\n",
      "Installing collected packages: sh, diskcache, tenacity, slugid, jmespath, botocore, s3transfer, boto3, fusepy, simple-httpfs, dill, multiprocess, flask-cors, pybbi, cached-property, h5py, negspy, pysam, asciitree, pypairix, pyfaidx, simplejson, cooler, clodius, higlass-python\n",
      "  Attempting uninstall: h5py\n",
      "    Found existing installation: h5py 2.10.0\n",
      "    Uninstalling h5py-2.10.0:\n",
      "      Successfully uninstalled h5py-2.10.0\n",
      "Successfully installed asciitree-0.3.3 boto3-1.17.34 botocore-1.20.34 cached-property-1.5.2 clodius-0.15.4 cooler-0.8.10 dill-0.3.3 diskcache-5.2.1 flask-cors-3.0.10 fusepy-3.0.1 h5py-3.2.1 higlass-python-0.4.4 jmespath-0.10.0 multiprocess-0.70.11.1 negspy-0.2.24 pybbi-0.3.0 pyfaidx-0.5.9.5 pypairix-0.3.7 pysam-0.16.0.1 s3transfer-0.3.6 sh-1.14.1 simple-httpfs-0.4.12 simplejson-3.17.2 slugid-2.0.0 tenacity-7.0.0\n"
     ]
    }
   ],
   "source": [
    "# import sys\n",
    "# !{sys.executable} -m pip install higlass-python"
   ]
  },
  {
   "cell_type": "code",
   "execution_count": 3,
   "metadata": {},
   "outputs": [
    {
     "data": {
      "application/vnd.jupyter.widget-view+json": {
       "model_id": "e8acc8f9150646be890701d7ebb32c2d",
       "version_major": 2,
       "version_minor": 0
      },
      "text/plain": [
       "HiGlassDisplay(viewconf={'editable': True, 'views': [{'uid': 'bNCYo6LtRACTZHBdOlXpyA', 'tracks': {'top': [], '…"
      ]
     },
     "metadata": {},
     "output_type": "display_data"
    }
   ],
   "source": [
    "import higlass\n",
    "from higlass.client import Track, View\n",
    "\n",
    "# Define track set (dataset)\n",
    "tsl = higlass.tilesets.cooler('chr21.chr21_10000.mcool')\n",
    "\n",
    "# Define trackers (figure axes)\n",
    "trl = Track('heatmap', tileset = tsl)\n",
    "\n",
    "# Generate plots\n",
    "view1 = View([trl])\n",
    "\n",
    "# Display interactive output\n",
    "display, server, viewconf = higlass.display([view1])\n",
    "display"
   ]
  },
  {
   "cell_type": "code",
   "execution_count": null,
   "metadata": {},
   "outputs": [],
   "source": []
  }
 ],
 "metadata": {
  "kernelspec": {
   "display_name": "Python 3",
   "language": "python",
   "name": "python3"
  },
  "language_info": {
   "codemirror_mode": {
    "name": "ipython",
    "version": 3
   },
   "file_extension": ".py",
   "mimetype": "text/x-python",
   "name": "python",
   "nbconvert_exporter": "python",
   "pygments_lexer": "ipython3",
   "version": "3.7.6"
  }
 },
 "nbformat": 4,
 "nbformat_minor": 4
}
